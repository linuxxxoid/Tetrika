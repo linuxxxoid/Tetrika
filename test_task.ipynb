{
 "cells": [
  {
   "cell_type": "markdown",
   "metadata": {},
   "source": [
    "## Задание 1: Имена\n",
    "\n",
    "### Исходные данные\n",
    "\n",
    "[names.txt](https://s3-us-west-2.amazonaws.com/secure.notion-static.com/c47a2634-d6cf-4b2b-9229-95fbdbe92cae/names.txt)\n",
    "\n",
    "В текстовом файле содержится набор имён.\n",
    "\n",
    "### Задача\n",
    "\n",
    "Нужно выполнить следующие действия и вывести результат вычислений:\n",
    "\n",
    "1. Отсортировать все имена в лексикографическом порядке.\n",
    "2. Посчитать для каждого имени алфавитную сумму – сумму порядковых номеров букв (MAY: 13 + 1 + 25 = 39).\n",
    "3. Умножить алфавитную сумму каждого имени на порядковый номер имени в отсортированном списке (индексация начинается с 1). Например, если MAY находится на 63 месте в списке, то результат для него будет 63 * 39 = 2457.\n",
    "4. Сложить произведения из п. 3 для всех имен из файла и получить число.\n",
    "5. Вывести полученную сумму."
   ]
  },
  {
   "cell_type": "code",
   "execution_count": 1,
   "metadata": {},
   "outputs": [
    {
     "name": "stdout",
     "output_type": "stream",
     "text": [
      "['\"AARON\"', '\"ABBEY\"', '\"ABBIE\"', '\"ABBY\"', '\"ABDUL\"', '\"ABE\"', '\"ABEL\"', '\"ABIGAIL\"', '\"ABRAHAM\"', '\"ABRAM\"', '\"ADA\"']\n"
     ]
    }
   ],
   "source": [
    "file = open('names.txt', 'r')\n",
    "names = sorted(file.read().split(','))\n",
    "print(names[:11])"
   ]
  },
  {
   "cell_type": "code",
   "execution_count": 2,
   "metadata": {},
   "outputs": [
    {
     "name": "stdout",
     "output_type": "stream",
     "text": [
      "{'A': 1, 'B': 2, 'C': 3, 'D': 4, 'E': 5, 'F': 6, 'G': 7, 'H': 8, 'I': 9, 'J': 10, 'K': 11, 'L': 12, 'M': 13, 'N': 14, 'O': 15, 'P': 16, 'Q': 17, 'R': 18, 'S': 19, 'T': 20, 'U': 21, 'W': 22, 'V': 23, 'X': 24, 'Y': 25, 'Z': 26}\n"
     ]
    }
   ],
   "source": [
    "alphabet = dict([tuple(reversed(i)) for i in enumerate('ABCDEFGHIJKLMNOPQRSTUWVXYZ', 1)]);\n",
    "print(alphabet)"
   ]
  },
  {
   "cell_type": "code",
   "execution_count": 3,
   "metadata": {},
   "outputs": [
    {
     "name": "stdout",
     "output_type": "stream",
     "text": [
      "872299863\n"
     ]
    }
   ],
   "source": [
    "def solving(alphabet, names):\n",
    "    i = 1\n",
    "    s = 0\n",
    "    for name in names:\n",
    "        s += i * sum([alphabet[letter] for letter in name[1:len(name) - 1]])\n",
    "        i += 1\n",
    "    return s\n",
    "\n",
    "answer = solving(alphabet, names)\n",
    "print(answer)"
   ]
  },
  {
   "cell_type": "markdown",
   "metadata": {},
   "source": [
    "## Задание 2: IP-адреса\n",
    "\n",
    "### Исходные данные\n",
    "\n",
    "[hits.txt](https://s3-us-west-2.amazonaws.com/secure.notion-static.com/f4f86e5b-f716-478a-9750-5960998f852f/hits.txt)\n",
    "\n",
    "Файл состоит из строк вида: `<host>\\t<ip>\\t<page>\\n`, где host — корневой домен, ip — IP-адрес, page — «хвост» ссылки.\n",
    "\n",
    "### Задача\n",
    "\n",
    "Необходимо вывести 5 IP-адресов, которые встречаются в файле чаще других."
   ]
  },
  {
   "cell_type": "code",
   "execution_count": 4,
   "metadata": {},
   "outputs": [
    {
     "data": {
      "text/plain": [
       "['154.157.157.156',\n",
       " '82.146.232.163',\n",
       " '194.78.107.33',\n",
       " '226.247.119.128',\n",
       " '21.143.243.182']"
      ]
     },
     "execution_count": 4,
     "metadata": {},
     "output_type": "execute_result"
    }
   ],
   "source": [
    "file2 = open('hits.txt', 'r')\n",
    "lines = file2.read().split('\\n')\n",
    "dictionary = {}\n",
    "for l in lines:\n",
    "    string = l.split('\\t')\n",
    "    if dictionary.get(string[1]) != None:\n",
    "        dictionary[string[1]] += 1 \n",
    "    else:\n",
    "        dictionary[string[1]] = 1\n",
    "\n",
    "dictionary = sorted(dictionary, key = dictionary.get, reverse = True)\n",
    "dictionary[:5]"
   ]
  },
  {
   "cell_type": "markdown",
   "metadata": {},
   "source": [
    "## Задание 3: Оценка уроков\n",
    "\n",
    "Нужно найти, какой из репетиторов получал самую низкую среднюю оценку качества после уроков по физике за каждый день, и вывести эту оценку."
   ]
  },
  {
   "cell_type": "code",
   "execution_count": 5,
   "metadata": {},
   "outputs": [],
   "source": [
    "import pandas as pd\n",
    "import numpy as np\n",
    "\n",
    "lessons = pd.read_csv('tech_quality/lessons.txt', sep = '|', header = 0, names = ['id', 'event_id', 'subject', 'scheduled_time'], skipinitialspace = True)\n",
    "participants = pd.read_csv('tech_quality/participants.txt', sep = '|', header = 0, names = ['event_id', 'user_id'], skipinitialspace = True)\n",
    "quality = pd.read_csv('tech_quality/quality.txt', sep = '|', header = 0, names = ['lesson_id', 'tech_quality'], skipinitialspace = True)\n",
    "users = pd.read_csv('tech_quality/users.txt', sep = '|', header = 0, names = ['human_id', 'role'], skipinitialspace = True)"
   ]
  },
  {
   "cell_type": "code",
   "execution_count": 6,
   "metadata": {},
   "outputs": [
    {
     "data": {
      "text/html": [
       "<div>\n",
       "<style scoped>\n",
       "    .dataframe tbody tr th:only-of-type {\n",
       "        vertical-align: middle;\n",
       "    }\n",
       "\n",
       "    .dataframe tbody tr th {\n",
       "        vertical-align: top;\n",
       "    }\n",
       "\n",
       "    .dataframe thead th {\n",
       "        text-align: right;\n",
       "    }\n",
       "</style>\n",
       "<table border=\"1\" class=\"dataframe\">\n",
       "  <thead>\n",
       "    <tr style=\"text-align: right;\">\n",
       "      <th></th>\n",
       "      <th>id</th>\n",
       "      <th>event_id</th>\n",
       "      <th>subject</th>\n",
       "      <th>scheduled_time</th>\n",
       "    </tr>\n",
       "  </thead>\n",
       "  <tbody>\n",
       "    <tr>\n",
       "      <th>0</th>\n",
       "      <td>--------------------------------------+-------...</td>\n",
       "      <td>NaN</td>\n",
       "      <td>NaN</td>\n",
       "      <td>NaN</td>\n",
       "    </tr>\n",
       "    <tr>\n",
       "      <th>1</th>\n",
       "      <td>1e7bb408-cfef-4a9f-8328-351c9483a64c</td>\n",
       "      <td>38114.0</td>\n",
       "      <td>phys</td>\n",
       "      <td>2020-01-19 12:00:00</td>\n",
       "    </tr>\n",
       "    <tr>\n",
       "      <th>2</th>\n",
       "      <td>6d8e59d9-a7c8-4bb3-8ff3-99cd07acdf1a</td>\n",
       "      <td>51568.0</td>\n",
       "      <td>it</td>\n",
       "      <td>2020-01-19 13:00:00</td>\n",
       "    </tr>\n",
       "    <tr>\n",
       "      <th>3</th>\n",
       "      <td>62e1a078-33de-47c1-99d2-845b1daca56f</td>\n",
       "      <td>52790.0</td>\n",
       "      <td>hist</td>\n",
       "      <td>2020-01-19 13:00:00</td>\n",
       "    </tr>\n",
       "    <tr>\n",
       "      <th>4</th>\n",
       "      <td>00fc6685-f53a-49bb-b960-5e0042fd3852</td>\n",
       "      <td>51341.0</td>\n",
       "      <td>phys</td>\n",
       "      <td>2020-01-17 12:00:00</td>\n",
       "    </tr>\n",
       "  </tbody>\n",
       "</table>\n",
       "</div>"
      ],
      "text/plain": [
       "                                                  id  event_id   subject  \\\n",
       "0  --------------------------------------+-------...       NaN       NaN   \n",
       "1              1e7bb408-cfef-4a9f-8328-351c9483a64c    38114.0  phys       \n",
       "2              6d8e59d9-a7c8-4bb3-8ff3-99cd07acdf1a    51568.0  it         \n",
       "3              62e1a078-33de-47c1-99d2-845b1daca56f    52790.0  hist       \n",
       "4              00fc6685-f53a-49bb-b960-5e0042fd3852    51341.0  phys       \n",
       "\n",
       "        scheduled_time  \n",
       "0                  NaN  \n",
       "1  2020-01-19 12:00:00  \n",
       "2  2020-01-19 13:00:00  \n",
       "3  2020-01-19 13:00:00  \n",
       "4  2020-01-17 12:00:00  "
      ]
     },
     "execution_count": 6,
     "metadata": {},
     "output_type": "execute_result"
    }
   ],
   "source": [
    "lessons.head(5)"
   ]
  },
  {
   "cell_type": "code",
   "execution_count": 7,
   "metadata": {},
   "outputs": [
    {
     "data": {
      "text/html": [
       "<div>\n",
       "<style scoped>\n",
       "    .dataframe tbody tr th:only-of-type {\n",
       "        vertical-align: middle;\n",
       "    }\n",
       "\n",
       "    .dataframe tbody tr th {\n",
       "        vertical-align: top;\n",
       "    }\n",
       "\n",
       "    .dataframe thead th {\n",
       "        text-align: right;\n",
       "    }\n",
       "</style>\n",
       "<table border=\"1\" class=\"dataframe\">\n",
       "  <thead>\n",
       "    <tr style=\"text-align: right;\">\n",
       "      <th></th>\n",
       "      <th>event_id</th>\n",
       "      <th>user_id</th>\n",
       "    </tr>\n",
       "  </thead>\n",
       "  <tbody>\n",
       "    <tr>\n",
       "      <th>0</th>\n",
       "      <td>----------+--------------------------------------</td>\n",
       "      <td>NaN</td>\n",
       "    </tr>\n",
       "    <tr>\n",
       "      <th>1</th>\n",
       "      <td>38114</td>\n",
       "      <td>e28351f5-4ccb-4549-8647-d43f2b15e7b8</td>\n",
       "    </tr>\n",
       "    <tr>\n",
       "      <th>2</th>\n",
       "      <td>38114</td>\n",
       "      <td>4df2832a-1d63-4453-9659-43993fc35996</td>\n",
       "    </tr>\n",
       "    <tr>\n",
       "      <th>3</th>\n",
       "      <td>51568</td>\n",
       "      <td>bb1c0bc8-1212-452b-97a0-439d4a2169e2</td>\n",
       "    </tr>\n",
       "    <tr>\n",
       "      <th>4</th>\n",
       "      <td>51568</td>\n",
       "      <td>63441abe-c4da-4275-ba26-66f7dbd65dde</td>\n",
       "    </tr>\n",
       "  </tbody>\n",
       "</table>\n",
       "</div>"
      ],
      "text/plain": [
       "                                            event_id  \\\n",
       "0  ----------+--------------------------------------   \n",
       "1                                             38114    \n",
       "2                                             38114    \n",
       "3                                             51568    \n",
       "4                                             51568    \n",
       "\n",
       "                                user_id  \n",
       "0                                   NaN  \n",
       "1  e28351f5-4ccb-4549-8647-d43f2b15e7b8  \n",
       "2  4df2832a-1d63-4453-9659-43993fc35996  \n",
       "3  bb1c0bc8-1212-452b-97a0-439d4a2169e2  \n",
       "4  63441abe-c4da-4275-ba26-66f7dbd65dde  "
      ]
     },
     "execution_count": 7,
     "metadata": {},
     "output_type": "execute_result"
    }
   ],
   "source": [
    "participants.head(5)"
   ]
  },
  {
   "cell_type": "code",
   "execution_count": 8,
   "metadata": {},
   "outputs": [
    {
     "data": {
      "text/html": [
       "<div>\n",
       "<style scoped>\n",
       "    .dataframe tbody tr th:only-of-type {\n",
       "        vertical-align: middle;\n",
       "    }\n",
       "\n",
       "    .dataframe tbody tr th {\n",
       "        vertical-align: top;\n",
       "    }\n",
       "\n",
       "    .dataframe thead th {\n",
       "        text-align: right;\n",
       "    }\n",
       "</style>\n",
       "<table border=\"1\" class=\"dataframe\">\n",
       "  <thead>\n",
       "    <tr style=\"text-align: right;\">\n",
       "      <th></th>\n",
       "      <th>lesson_id</th>\n",
       "      <th>tech_quality</th>\n",
       "    </tr>\n",
       "  </thead>\n",
       "  <tbody>\n",
       "    <tr>\n",
       "      <th>0</th>\n",
       "      <td>--------------------------------------+-------...</td>\n",
       "      <td>NaN</td>\n",
       "    </tr>\n",
       "    <tr>\n",
       "      <th>1</th>\n",
       "      <td>6d8e59d9-a7c8-4bb3-8ff3-99cd07acdf1a</td>\n",
       "      <td>5.0</td>\n",
       "    </tr>\n",
       "    <tr>\n",
       "      <th>2</th>\n",
       "      <td>62e1a078-33de-47c1-99d2-845b1daca56f</td>\n",
       "      <td>5.0</td>\n",
       "    </tr>\n",
       "    <tr>\n",
       "      <th>3</th>\n",
       "      <td>62e1a078-33de-47c1-99d2-845b1daca56f</td>\n",
       "      <td>5.0</td>\n",
       "    </tr>\n",
       "    <tr>\n",
       "      <th>4</th>\n",
       "      <td>00fc6685-f53a-49bb-b960-5e0042fd3852</td>\n",
       "      <td>5.0</td>\n",
       "    </tr>\n",
       "  </tbody>\n",
       "</table>\n",
       "</div>"
      ],
      "text/plain": [
       "                                           lesson_id  tech_quality\n",
       "0  --------------------------------------+-------...           NaN\n",
       "1              6d8e59d9-a7c8-4bb3-8ff3-99cd07acdf1a            5.0\n",
       "2              62e1a078-33de-47c1-99d2-845b1daca56f            5.0\n",
       "3              62e1a078-33de-47c1-99d2-845b1daca56f            5.0\n",
       "4              00fc6685-f53a-49bb-b960-5e0042fd3852            5.0"
      ]
     },
     "execution_count": 8,
     "metadata": {},
     "output_type": "execute_result"
    }
   ],
   "source": [
    "quality.head(5)"
   ]
  },
  {
   "cell_type": "code",
   "execution_count": 9,
   "metadata": {},
   "outputs": [
    {
     "data": {
      "text/html": [
       "<div>\n",
       "<style scoped>\n",
       "    .dataframe tbody tr th:only-of-type {\n",
       "        vertical-align: middle;\n",
       "    }\n",
       "\n",
       "    .dataframe tbody tr th {\n",
       "        vertical-align: top;\n",
       "    }\n",
       "\n",
       "    .dataframe thead th {\n",
       "        text-align: right;\n",
       "    }\n",
       "</style>\n",
       "<table border=\"1\" class=\"dataframe\">\n",
       "  <thead>\n",
       "    <tr style=\"text-align: right;\">\n",
       "      <th></th>\n",
       "      <th>human_id</th>\n",
       "      <th>role</th>\n",
       "    </tr>\n",
       "  </thead>\n",
       "  <tbody>\n",
       "    <tr>\n",
       "      <th>0</th>\n",
       "      <td>--------------------------------------+-------</td>\n",
       "      <td>NaN</td>\n",
       "    </tr>\n",
       "    <tr>\n",
       "      <th>1</th>\n",
       "      <td>e28351f5-4ccb-4549-8647-d43f2b15e7b8</td>\n",
       "      <td>pupil</td>\n",
       "    </tr>\n",
       "    <tr>\n",
       "      <th>2</th>\n",
       "      <td>4df2832a-1d63-4453-9659-43993fc35996</td>\n",
       "      <td>tutor</td>\n",
       "    </tr>\n",
       "    <tr>\n",
       "      <th>3</th>\n",
       "      <td>bb1c0bc8-1212-452b-97a0-439d4a2169e2</td>\n",
       "      <td>pupil</td>\n",
       "    </tr>\n",
       "    <tr>\n",
       "      <th>4</th>\n",
       "      <td>63441abe-c4da-4275-ba26-66f7dbd65dde</td>\n",
       "      <td>tutor</td>\n",
       "    </tr>\n",
       "  </tbody>\n",
       "</table>\n",
       "</div>"
      ],
      "text/plain": [
       "                                         human_id   role\n",
       "0  --------------------------------------+-------    NaN\n",
       "1           e28351f5-4ccb-4549-8647-d43f2b15e7b8   pupil\n",
       "2           4df2832a-1d63-4453-9659-43993fc35996   tutor\n",
       "3           bb1c0bc8-1212-452b-97a0-439d4a2169e2   pupil\n",
       "4           63441abe-c4da-4275-ba26-66f7dbd65dde   tutor"
      ]
     },
     "execution_count": 9,
     "metadata": {},
     "output_type": "execute_result"
    }
   ],
   "source": [
    "users.head(5)"
   ]
  },
  {
   "cell_type": "code",
   "execution_count": 10,
   "metadata": {},
   "outputs": [
    {
     "data": {
      "text/html": [
       "<div>\n",
       "<style scoped>\n",
       "    .dataframe tbody tr th:only-of-type {\n",
       "        vertical-align: middle;\n",
       "    }\n",
       "\n",
       "    .dataframe tbody tr th {\n",
       "        vertical-align: top;\n",
       "    }\n",
       "\n",
       "    .dataframe thead th {\n",
       "        text-align: right;\n",
       "    }\n",
       "</style>\n",
       "<table border=\"1\" class=\"dataframe\">\n",
       "  <thead>\n",
       "    <tr style=\"text-align: right;\">\n",
       "      <th></th>\n",
       "      <th>id</th>\n",
       "      <th>event_id</th>\n",
       "      <th>subject</th>\n",
       "      <th>scheduled_time</th>\n",
       "    </tr>\n",
       "  </thead>\n",
       "  <tbody>\n",
       "    <tr>\n",
       "      <th>375</th>\n",
       "      <td>056c3d91-dce7-4071-91d3-1de816ee63a3</td>\n",
       "      <td>51001.0</td>\n",
       "      <td>hist</td>\n",
       "      <td>2020-01-17 12:45:00</td>\n",
       "    </tr>\n",
       "    <tr>\n",
       "      <th>376</th>\n",
       "      <td>c64a1daf-d7f5-4c8c-ac9f-df634d77327b</td>\n",
       "      <td>50304.0</td>\n",
       "      <td>bio</td>\n",
       "      <td>2020-01-11 11:00:00</td>\n",
       "    </tr>\n",
       "    <tr>\n",
       "      <th>377</th>\n",
       "      <td>aa7702bc-5271-469c-a1c2-b7e814fd7e20</td>\n",
       "      <td>49880.0</td>\n",
       "      <td>bio</td>\n",
       "      <td>2020-01-16 15:00:00</td>\n",
       "    </tr>\n",
       "    <tr>\n",
       "      <th>378</th>\n",
       "      <td>8643fa00-217a-42ae-a27d-e6f47c0501f1</td>\n",
       "      <td>55449.0</td>\n",
       "      <td>bio</td>\n",
       "      <td>2020-01-19 12:15:00</td>\n",
       "    </tr>\n",
       "    <tr>\n",
       "      <th>379</th>\n",
       "      <td>(378 rows)</td>\n",
       "      <td>NaN</td>\n",
       "      <td>NaN</td>\n",
       "      <td>NaN</td>\n",
       "    </tr>\n",
       "  </tbody>\n",
       "</table>\n",
       "</div>"
      ],
      "text/plain": [
       "                                        id  event_id   subject  \\\n",
       "375  056c3d91-dce7-4071-91d3-1de816ee63a3    51001.0  hist       \n",
       "376  c64a1daf-d7f5-4c8c-ac9f-df634d77327b    50304.0  bio        \n",
       "377  aa7702bc-5271-469c-a1c2-b7e814fd7e20    49880.0  bio        \n",
       "378  8643fa00-217a-42ae-a27d-e6f47c0501f1    55449.0  bio        \n",
       "379                             (378 rows)       NaN       NaN   \n",
       "\n",
       "          scheduled_time  \n",
       "375  2020-01-17 12:45:00  \n",
       "376  2020-01-11 11:00:00  \n",
       "377  2020-01-16 15:00:00  \n",
       "378  2020-01-19 12:15:00  \n",
       "379                  NaN  "
      ]
     },
     "execution_count": 10,
     "metadata": {},
     "output_type": "execute_result"
    }
   ],
   "source": [
    "lessons.tail(5)"
   ]
  },
  {
   "cell_type": "code",
   "execution_count": 11,
   "metadata": {},
   "outputs": [
    {
     "data": {
      "text/html": [
       "<div>\n",
       "<style scoped>\n",
       "    .dataframe tbody tr th:only-of-type {\n",
       "        vertical-align: middle;\n",
       "    }\n",
       "\n",
       "    .dataframe tbody tr th {\n",
       "        vertical-align: top;\n",
       "    }\n",
       "\n",
       "    .dataframe thead th {\n",
       "        text-align: right;\n",
       "    }\n",
       "</style>\n",
       "<table border=\"1\" class=\"dataframe\">\n",
       "  <thead>\n",
       "    <tr style=\"text-align: right;\">\n",
       "      <th></th>\n",
       "      <th>event_id</th>\n",
       "      <th>user_id</th>\n",
       "    </tr>\n",
       "  </thead>\n",
       "  <tbody>\n",
       "    <tr>\n",
       "      <th>740</th>\n",
       "      <td>49880</td>\n",
       "      <td>8476b612-223f-4c86-9b0b-14bc04759233</td>\n",
       "    </tr>\n",
       "    <tr>\n",
       "      <th>741</th>\n",
       "      <td>49880</td>\n",
       "      <td>582e6abb-dd9a-42fa-b441-455eac28327e</td>\n",
       "    </tr>\n",
       "    <tr>\n",
       "      <th>742</th>\n",
       "      <td>55449</td>\n",
       "      <td>ad7199dd-3bf6-4d6d-8ae7-448ecf90a4eb</td>\n",
       "    </tr>\n",
       "    <tr>\n",
       "      <th>743</th>\n",
       "      <td>55449</td>\n",
       "      <td>d3364cf3-46cc-4e64-ad11-70a069f7c049</td>\n",
       "    </tr>\n",
       "    <tr>\n",
       "      <th>744</th>\n",
       "      <td>(743 rows)</td>\n",
       "      <td>NaN</td>\n",
       "    </tr>\n",
       "  </tbody>\n",
       "</table>\n",
       "</div>"
      ],
      "text/plain": [
       "       event_id                               user_id\n",
       "740      49880   8476b612-223f-4c86-9b0b-14bc04759233\n",
       "741      49880   582e6abb-dd9a-42fa-b441-455eac28327e\n",
       "742      55449   ad7199dd-3bf6-4d6d-8ae7-448ecf90a4eb\n",
       "743      55449   d3364cf3-46cc-4e64-ad11-70a069f7c049\n",
       "744  (743 rows)                                   NaN"
      ]
     },
     "execution_count": 11,
     "metadata": {},
     "output_type": "execute_result"
    }
   ],
   "source": [
    "participants.tail(5)"
   ]
  },
  {
   "cell_type": "code",
   "execution_count": 12,
   "metadata": {},
   "outputs": [
    {
     "data": {
      "text/html": [
       "<div>\n",
       "<style scoped>\n",
       "    .dataframe tbody tr th:only-of-type {\n",
       "        vertical-align: middle;\n",
       "    }\n",
       "\n",
       "    .dataframe tbody tr th {\n",
       "        vertical-align: top;\n",
       "    }\n",
       "\n",
       "    .dataframe thead th {\n",
       "        text-align: right;\n",
       "    }\n",
       "</style>\n",
       "<table border=\"1\" class=\"dataframe\">\n",
       "  <thead>\n",
       "    <tr style=\"text-align: right;\">\n",
       "      <th></th>\n",
       "      <th>lesson_id</th>\n",
       "      <th>tech_quality</th>\n",
       "    </tr>\n",
       "  </thead>\n",
       "  <tbody>\n",
       "    <tr>\n",
       "      <th>362</th>\n",
       "      <td>aa7702bc-5271-469c-a1c2-b7e814fd7e20</td>\n",
       "      <td>5.0</td>\n",
       "    </tr>\n",
       "    <tr>\n",
       "      <th>363</th>\n",
       "      <td>8643fa00-217a-42ae-a27d-e6f47c0501f1</td>\n",
       "      <td>5.0</td>\n",
       "    </tr>\n",
       "    <tr>\n",
       "      <th>364</th>\n",
       "      <td>7a15af58-39d0-4207-bfdf-3fa176b7fb4e</td>\n",
       "      <td>5.0</td>\n",
       "    </tr>\n",
       "    <tr>\n",
       "      <th>365</th>\n",
       "      <td>7a15af58-39d0-4207-bfdf-3fa176b7fb4e</td>\n",
       "      <td>5.0</td>\n",
       "    </tr>\n",
       "    <tr>\n",
       "      <th>366</th>\n",
       "      <td>(365 rows)</td>\n",
       "      <td>NaN</td>\n",
       "    </tr>\n",
       "  </tbody>\n",
       "</table>\n",
       "</div>"
      ],
      "text/plain": [
       "                                 lesson_id  tech_quality\n",
       "362  aa7702bc-5271-469c-a1c2-b7e814fd7e20            5.0\n",
       "363  8643fa00-217a-42ae-a27d-e6f47c0501f1            5.0\n",
       "364  7a15af58-39d0-4207-bfdf-3fa176b7fb4e            5.0\n",
       "365  7a15af58-39d0-4207-bfdf-3fa176b7fb4e            5.0\n",
       "366                             (365 rows)           NaN"
      ]
     },
     "execution_count": 12,
     "metadata": {},
     "output_type": "execute_result"
    }
   ],
   "source": [
    "quality.tail(5)"
   ]
  },
  {
   "cell_type": "code",
   "execution_count": 13,
   "metadata": {},
   "outputs": [
    {
     "data": {
      "text/html": [
       "<div>\n",
       "<style scoped>\n",
       "    .dataframe tbody tr th:only-of-type {\n",
       "        vertical-align: middle;\n",
       "    }\n",
       "\n",
       "    .dataframe tbody tr th {\n",
       "        vertical-align: top;\n",
       "    }\n",
       "\n",
       "    .dataframe thead th {\n",
       "        text-align: right;\n",
       "    }\n",
       "</style>\n",
       "<table border=\"1\" class=\"dataframe\">\n",
       "  <thead>\n",
       "    <tr style=\"text-align: right;\">\n",
       "      <th></th>\n",
       "      <th>human_id</th>\n",
       "      <th>role</th>\n",
       "    </tr>\n",
       "  </thead>\n",
       "  <tbody>\n",
       "    <tr>\n",
       "      <th>740</th>\n",
       "      <td>ad7199dd-3bf6-4d6d-8ae7-448ecf90a4eb</td>\n",
       "      <td>tutor</td>\n",
       "    </tr>\n",
       "    <tr>\n",
       "      <th>741</th>\n",
       "      <td>d3364cf3-46cc-4e64-ad11-70a069f7c049</td>\n",
       "      <td>pupil</td>\n",
       "    </tr>\n",
       "    <tr>\n",
       "      <th>742</th>\n",
       "      <td>ad7199dd-3bf6-4d6d-8ae7-448ecf90a4eb</td>\n",
       "      <td>tutor</td>\n",
       "    </tr>\n",
       "    <tr>\n",
       "      <th>743</th>\n",
       "      <td>f76609c8-ba5d-4818-9b57-097debc90cab</td>\n",
       "      <td>pupil</td>\n",
       "    </tr>\n",
       "    <tr>\n",
       "      <th>744</th>\n",
       "      <td>(743 rows)</td>\n",
       "      <td>NaN</td>\n",
       "    </tr>\n",
       "  </tbody>\n",
       "</table>\n",
       "</div>"
      ],
      "text/plain": [
       "                                  human_id   role\n",
       "740  ad7199dd-3bf6-4d6d-8ae7-448ecf90a4eb   tutor\n",
       "741  d3364cf3-46cc-4e64-ad11-70a069f7c049   pupil\n",
       "742  ad7199dd-3bf6-4d6d-8ae7-448ecf90a4eb   tutor\n",
       "743  f76609c8-ba5d-4818-9b57-097debc90cab   pupil\n",
       "744                             (743 rows)    NaN"
      ]
     },
     "execution_count": 13,
     "metadata": {},
     "output_type": "execute_result"
    }
   ],
   "source": [
    "users.tail(5)"
   ]
  },
  {
   "cell_type": "code",
   "execution_count": 14,
   "metadata": {},
   "outputs": [],
   "source": [
    "lessons = lessons.drop([0, 379])"
   ]
  },
  {
   "cell_type": "code",
   "execution_count": 15,
   "metadata": {},
   "outputs": [],
   "source": [
    "participants = participants.drop([0, 744])"
   ]
  },
  {
   "cell_type": "code",
   "execution_count": 16,
   "metadata": {},
   "outputs": [],
   "source": [
    "quality = quality.drop([0, 366])"
   ]
  },
  {
   "cell_type": "code",
   "execution_count": 17,
   "metadata": {},
   "outputs": [],
   "source": [
    "users = users.drop([0, 744])"
   ]
  },
  {
   "cell_type": "code",
   "execution_count": 18,
   "metadata": {},
   "outputs": [
    {
     "data": {
      "text/html": [
       "<div>\n",
       "<style scoped>\n",
       "    .dataframe tbody tr th:only-of-type {\n",
       "        vertical-align: middle;\n",
       "    }\n",
       "\n",
       "    .dataframe tbody tr th {\n",
       "        vertical-align: top;\n",
       "    }\n",
       "\n",
       "    .dataframe thead th {\n",
       "        text-align: right;\n",
       "    }\n",
       "</style>\n",
       "<table border=\"1\" class=\"dataframe\">\n",
       "  <thead>\n",
       "    <tr style=\"text-align: right;\">\n",
       "      <th></th>\n",
       "      <th>human_id</th>\n",
       "      <th>role</th>\n",
       "    </tr>\n",
       "  </thead>\n",
       "  <tbody>\n",
       "    <tr>\n",
       "      <th>739</th>\n",
       "      <td>582e6abb-dd9a-42fa-b441-455eac28327e</td>\n",
       "      <td>pupil</td>\n",
       "    </tr>\n",
       "    <tr>\n",
       "      <th>740</th>\n",
       "      <td>ad7199dd-3bf6-4d6d-8ae7-448ecf90a4eb</td>\n",
       "      <td>tutor</td>\n",
       "    </tr>\n",
       "    <tr>\n",
       "      <th>741</th>\n",
       "      <td>d3364cf3-46cc-4e64-ad11-70a069f7c049</td>\n",
       "      <td>pupil</td>\n",
       "    </tr>\n",
       "    <tr>\n",
       "      <th>742</th>\n",
       "      <td>ad7199dd-3bf6-4d6d-8ae7-448ecf90a4eb</td>\n",
       "      <td>tutor</td>\n",
       "    </tr>\n",
       "    <tr>\n",
       "      <th>743</th>\n",
       "      <td>f76609c8-ba5d-4818-9b57-097debc90cab</td>\n",
       "      <td>pupil</td>\n",
       "    </tr>\n",
       "  </tbody>\n",
       "</table>\n",
       "</div>"
      ],
      "text/plain": [
       "                                  human_id   role\n",
       "739  582e6abb-dd9a-42fa-b441-455eac28327e   pupil\n",
       "740  ad7199dd-3bf6-4d6d-8ae7-448ecf90a4eb   tutor\n",
       "741  d3364cf3-46cc-4e64-ad11-70a069f7c049   pupil\n",
       "742  ad7199dd-3bf6-4d6d-8ae7-448ecf90a4eb   tutor\n",
       "743  f76609c8-ba5d-4818-9b57-097debc90cab   pupil"
      ]
     },
     "execution_count": 18,
     "metadata": {},
     "output_type": "execute_result"
    }
   ],
   "source": [
    "users.tail(5)"
   ]
  },
  {
   "cell_type": "code",
   "execution_count": 19,
   "metadata": {},
   "outputs": [],
   "source": [
    "quality2 = quality[(quality['tech_quality'] == 5) | (quality['tech_quality'] == 4) | (quality['tech_quality'] == 3) | (quality['tech_quality'] == 2) | (quality['tech_quality'] == 1) | (quality['tech_quality'] == 0)]"
   ]
  },
  {
   "cell_type": "code",
   "execution_count": 20,
   "metadata": {},
   "outputs": [
    {
     "data": {
      "text/html": [
       "<div>\n",
       "<style scoped>\n",
       "    .dataframe tbody tr th:only-of-type {\n",
       "        vertical-align: middle;\n",
       "    }\n",
       "\n",
       "    .dataframe tbody tr th {\n",
       "        vertical-align: top;\n",
       "    }\n",
       "\n",
       "    .dataframe thead th {\n",
       "        text-align: right;\n",
       "    }\n",
       "</style>\n",
       "<table border=\"1\" class=\"dataframe\">\n",
       "  <thead>\n",
       "    <tr style=\"text-align: right;\">\n",
       "      <th></th>\n",
       "      <th>lesson_id</th>\n",
       "      <th>tech_quality</th>\n",
       "    </tr>\n",
       "  </thead>\n",
       "  <tbody>\n",
       "    <tr>\n",
       "      <th>1</th>\n",
       "      <td>6d8e59d9-a7c8-4bb3-8ff3-99cd07acdf1a</td>\n",
       "      <td>5.0</td>\n",
       "    </tr>\n",
       "    <tr>\n",
       "      <th>2</th>\n",
       "      <td>62e1a078-33de-47c1-99d2-845b1daca56f</td>\n",
       "      <td>5.0</td>\n",
       "    </tr>\n",
       "    <tr>\n",
       "      <th>3</th>\n",
       "      <td>62e1a078-33de-47c1-99d2-845b1daca56f</td>\n",
       "      <td>5.0</td>\n",
       "    </tr>\n",
       "    <tr>\n",
       "      <th>4</th>\n",
       "      <td>00fc6685-f53a-49bb-b960-5e0042fd3852</td>\n",
       "      <td>5.0</td>\n",
       "    </tr>\n",
       "    <tr>\n",
       "      <th>5</th>\n",
       "      <td>00fc6685-f53a-49bb-b960-5e0042fd3852</td>\n",
       "      <td>5.0</td>\n",
       "    </tr>\n",
       "    <tr>\n",
       "      <th>...</th>\n",
       "      <td>...</td>\n",
       "      <td>...</td>\n",
       "    </tr>\n",
       "    <tr>\n",
       "      <th>361</th>\n",
       "      <td>c64a1daf-d7f5-4c8c-ac9f-df634d77327b</td>\n",
       "      <td>5.0</td>\n",
       "    </tr>\n",
       "    <tr>\n",
       "      <th>362</th>\n",
       "      <td>aa7702bc-5271-469c-a1c2-b7e814fd7e20</td>\n",
       "      <td>5.0</td>\n",
       "    </tr>\n",
       "    <tr>\n",
       "      <th>363</th>\n",
       "      <td>8643fa00-217a-42ae-a27d-e6f47c0501f1</td>\n",
       "      <td>5.0</td>\n",
       "    </tr>\n",
       "    <tr>\n",
       "      <th>364</th>\n",
       "      <td>7a15af58-39d0-4207-bfdf-3fa176b7fb4e</td>\n",
       "      <td>5.0</td>\n",
       "    </tr>\n",
       "    <tr>\n",
       "      <th>365</th>\n",
       "      <td>7a15af58-39d0-4207-bfdf-3fa176b7fb4e</td>\n",
       "      <td>5.0</td>\n",
       "    </tr>\n",
       "  </tbody>\n",
       "</table>\n",
       "<p>349 rows × 2 columns</p>\n",
       "</div>"
      ],
      "text/plain": [
       "                                 lesson_id  tech_quality\n",
       "1    6d8e59d9-a7c8-4bb3-8ff3-99cd07acdf1a            5.0\n",
       "2    62e1a078-33de-47c1-99d2-845b1daca56f            5.0\n",
       "3    62e1a078-33de-47c1-99d2-845b1daca56f            5.0\n",
       "4    00fc6685-f53a-49bb-b960-5e0042fd3852            5.0\n",
       "5    00fc6685-f53a-49bb-b960-5e0042fd3852            5.0\n",
       "..                                     ...           ...\n",
       "361  c64a1daf-d7f5-4c8c-ac9f-df634d77327b            5.0\n",
       "362  aa7702bc-5271-469c-a1c2-b7e814fd7e20            5.0\n",
       "363  8643fa00-217a-42ae-a27d-e6f47c0501f1            5.0\n",
       "364  7a15af58-39d0-4207-bfdf-3fa176b7fb4e            5.0\n",
       "365  7a15af58-39d0-4207-bfdf-3fa176b7fb4e            5.0\n",
       "\n",
       "[349 rows x 2 columns]"
      ]
     },
     "execution_count": 20,
     "metadata": {},
     "output_type": "execute_result"
    }
   ],
   "source": [
    "quality2"
   ]
  },
  {
   "cell_type": "code",
   "execution_count": 21,
   "metadata": {},
   "outputs": [
    {
     "data": {
      "text/plain": [
       "'phys    '"
      ]
     },
     "execution_count": 21,
     "metadata": {},
     "output_type": "execute_result"
    }
   ],
   "source": [
    "lessons[lessons.columns[2]].iloc[0]"
   ]
  },
  {
   "cell_type": "code",
   "execution_count": 22,
   "metadata": {},
   "outputs": [],
   "source": [
    "lessons2 = lessons[lessons['subject'] == 'phys    ']"
   ]
  },
  {
   "cell_type": "code",
   "execution_count": 23,
   "metadata": {},
   "outputs": [
    {
     "data": {
      "text/html": [
       "<div>\n",
       "<style scoped>\n",
       "    .dataframe tbody tr th:only-of-type {\n",
       "        vertical-align: middle;\n",
       "    }\n",
       "\n",
       "    .dataframe tbody tr th {\n",
       "        vertical-align: top;\n",
       "    }\n",
       "\n",
       "    .dataframe thead th {\n",
       "        text-align: right;\n",
       "    }\n",
       "</style>\n",
       "<table border=\"1\" class=\"dataframe\">\n",
       "  <thead>\n",
       "    <tr style=\"text-align: right;\">\n",
       "      <th></th>\n",
       "      <th>id</th>\n",
       "      <th>event_id</th>\n",
       "      <th>subject</th>\n",
       "      <th>scheduled_time</th>\n",
       "    </tr>\n",
       "  </thead>\n",
       "  <tbody>\n",
       "    <tr>\n",
       "      <th>1</th>\n",
       "      <td>1e7bb408-cfef-4a9f-8328-351c9483a64c</td>\n",
       "      <td>38114.0</td>\n",
       "      <td>phys</td>\n",
       "      <td>2020-01-19 12:00:00</td>\n",
       "    </tr>\n",
       "    <tr>\n",
       "      <th>4</th>\n",
       "      <td>00fc6685-f53a-49bb-b960-5e0042fd3852</td>\n",
       "      <td>51341.0</td>\n",
       "      <td>phys</td>\n",
       "      <td>2020-01-17 12:00:00</td>\n",
       "    </tr>\n",
       "    <tr>\n",
       "      <th>5</th>\n",
       "      <td>4cadf623-82e6-422f-a342-acf978302fb2</td>\n",
       "      <td>55048.0</td>\n",
       "      <td>phys</td>\n",
       "      <td>2020-01-19 14:00:00</td>\n",
       "    </tr>\n",
       "    <tr>\n",
       "      <th>7</th>\n",
       "      <td>e597a79a-3f68-4d15-bc77-c7000bcf8e52</td>\n",
       "      <td>53026.0</td>\n",
       "      <td>phys</td>\n",
       "      <td>2020-01-19 15:00:00</td>\n",
       "    </tr>\n",
       "    <tr>\n",
       "      <th>9</th>\n",
       "      <td>ea6f0bf3-bcfc-4555-9b16-cc2cfe722e17</td>\n",
       "      <td>51645.0</td>\n",
       "      <td>phys</td>\n",
       "      <td>2020-01-19 14:00:00</td>\n",
       "    </tr>\n",
       "  </tbody>\n",
       "</table>\n",
       "</div>"
      ],
      "text/plain": [
       "                                      id  event_id   subject  \\\n",
       "1  1e7bb408-cfef-4a9f-8328-351c9483a64c    38114.0  phys       \n",
       "4  00fc6685-f53a-49bb-b960-5e0042fd3852    51341.0  phys       \n",
       "5  4cadf623-82e6-422f-a342-acf978302fb2    55048.0  phys       \n",
       "7  e597a79a-3f68-4d15-bc77-c7000bcf8e52    53026.0  phys       \n",
       "9  ea6f0bf3-bcfc-4555-9b16-cc2cfe722e17    51645.0  phys       \n",
       "\n",
       "        scheduled_time  \n",
       "1  2020-01-19 12:00:00  \n",
       "4  2020-01-17 12:00:00  \n",
       "5  2020-01-19 14:00:00  \n",
       "7  2020-01-19 15:00:00  \n",
       "9  2020-01-19 14:00:00  "
      ]
     },
     "execution_count": 23,
     "metadata": {},
     "output_type": "execute_result"
    }
   ],
   "source": [
    "lessons2.head()"
   ]
  },
  {
   "cell_type": "code",
   "execution_count": 24,
   "metadata": {},
   "outputs": [],
   "source": [
    "new_table = pd.merge(quality2, lessons2, left_on = ['lesson_id'], right_on = ['id'])"
   ]
  },
  {
   "cell_type": "code",
   "execution_count": 25,
   "metadata": {
    "scrolled": false
   },
   "outputs": [
    {
     "data": {
      "text/html": [
       "<div>\n",
       "<style scoped>\n",
       "    .dataframe tbody tr th:only-of-type {\n",
       "        vertical-align: middle;\n",
       "    }\n",
       "\n",
       "    .dataframe tbody tr th {\n",
       "        vertical-align: top;\n",
       "    }\n",
       "\n",
       "    .dataframe thead th {\n",
       "        text-align: right;\n",
       "    }\n",
       "</style>\n",
       "<table border=\"1\" class=\"dataframe\">\n",
       "  <thead>\n",
       "    <tr style=\"text-align: right;\">\n",
       "      <th></th>\n",
       "      <th>lesson_id</th>\n",
       "      <th>tech_quality</th>\n",
       "      <th>id</th>\n",
       "      <th>event_id</th>\n",
       "      <th>subject</th>\n",
       "      <th>scheduled_time</th>\n",
       "    </tr>\n",
       "  </thead>\n",
       "  <tbody>\n",
       "    <tr>\n",
       "      <th>0</th>\n",
       "      <td>00fc6685-f53a-49bb-b960-5e0042fd3852</td>\n",
       "      <td>5.0</td>\n",
       "      <td>00fc6685-f53a-49bb-b960-5e0042fd3852</td>\n",
       "      <td>51341.0</td>\n",
       "      <td>phys</td>\n",
       "      <td>2020-01-17 12:00:00</td>\n",
       "    </tr>\n",
       "    <tr>\n",
       "      <th>1</th>\n",
       "      <td>00fc6685-f53a-49bb-b960-5e0042fd3852</td>\n",
       "      <td>5.0</td>\n",
       "      <td>00fc6685-f53a-49bb-b960-5e0042fd3852</td>\n",
       "      <td>51341.0</td>\n",
       "      <td>phys</td>\n",
       "      <td>2020-01-17 12:00:00</td>\n",
       "    </tr>\n",
       "    <tr>\n",
       "      <th>2</th>\n",
       "      <td>4cadf623-82e6-422f-a342-acf978302fb2</td>\n",
       "      <td>5.0</td>\n",
       "      <td>4cadf623-82e6-422f-a342-acf978302fb2</td>\n",
       "      <td>55048.0</td>\n",
       "      <td>phys</td>\n",
       "      <td>2020-01-19 14:00:00</td>\n",
       "    </tr>\n",
       "    <tr>\n",
       "      <th>3</th>\n",
       "      <td>e597a79a-3f68-4d15-bc77-c7000bcf8e52</td>\n",
       "      <td>5.0</td>\n",
       "      <td>e597a79a-3f68-4d15-bc77-c7000bcf8e52</td>\n",
       "      <td>53026.0</td>\n",
       "      <td>phys</td>\n",
       "      <td>2020-01-19 15:00:00</td>\n",
       "    </tr>\n",
       "    <tr>\n",
       "      <th>4</th>\n",
       "      <td>ea6f0bf3-bcfc-4555-9b16-cc2cfe722e17</td>\n",
       "      <td>5.0</td>\n",
       "      <td>ea6f0bf3-bcfc-4555-9b16-cc2cfe722e17</td>\n",
       "      <td>51645.0</td>\n",
       "      <td>phys</td>\n",
       "      <td>2020-01-19 14:00:00</td>\n",
       "    </tr>\n",
       "    <tr>\n",
       "      <th>5</th>\n",
       "      <td>7d56b43a-d137-446d-8570-8d7d5ccbaee9</td>\n",
       "      <td>5.0</td>\n",
       "      <td>7d56b43a-d137-446d-8570-8d7d5ccbaee9</td>\n",
       "      <td>51153.0</td>\n",
       "      <td>phys</td>\n",
       "      <td>2020-01-20 17:00:00</td>\n",
       "    </tr>\n",
       "    <tr>\n",
       "      <th>6</th>\n",
       "      <td>38a8b0ea-ff54-42cf-ab5b-742700ffcd0a</td>\n",
       "      <td>5.0</td>\n",
       "      <td>38a8b0ea-ff54-42cf-ab5b-742700ffcd0a</td>\n",
       "      <td>53356.0</td>\n",
       "      <td>phys</td>\n",
       "      <td>2020-01-20 10:00:00</td>\n",
       "    </tr>\n",
       "    <tr>\n",
       "      <th>7</th>\n",
       "      <td>38a8b0ea-ff54-42cf-ab5b-742700ffcd0a</td>\n",
       "      <td>5.0</td>\n",
       "      <td>38a8b0ea-ff54-42cf-ab5b-742700ffcd0a</td>\n",
       "      <td>53356.0</td>\n",
       "      <td>phys</td>\n",
       "      <td>2020-01-20 10:00:00</td>\n",
       "    </tr>\n",
       "    <tr>\n",
       "      <th>8</th>\n",
       "      <td>b1a122d7-b1c3-43c9-86e1-ec5e40456a3b</td>\n",
       "      <td>5.0</td>\n",
       "      <td>b1a122d7-b1c3-43c9-86e1-ec5e40456a3b</td>\n",
       "      <td>42871.0</td>\n",
       "      <td>phys</td>\n",
       "      <td>2020-01-20 10:00:00</td>\n",
       "    </tr>\n",
       "    <tr>\n",
       "      <th>9</th>\n",
       "      <td>b1a122d7-b1c3-43c9-86e1-ec5e40456a3b</td>\n",
       "      <td>5.0</td>\n",
       "      <td>b1a122d7-b1c3-43c9-86e1-ec5e40456a3b</td>\n",
       "      <td>42871.0</td>\n",
       "      <td>phys</td>\n",
       "      <td>2020-01-20 10:00:00</td>\n",
       "    </tr>\n",
       "  </tbody>\n",
       "</table>\n",
       "</div>"
      ],
      "text/plain": [
       "                               lesson_id  tech_quality  \\\n",
       "0  00fc6685-f53a-49bb-b960-5e0042fd3852            5.0   \n",
       "1  00fc6685-f53a-49bb-b960-5e0042fd3852            5.0   \n",
       "2  4cadf623-82e6-422f-a342-acf978302fb2            5.0   \n",
       "3  e597a79a-3f68-4d15-bc77-c7000bcf8e52            5.0   \n",
       "4  ea6f0bf3-bcfc-4555-9b16-cc2cfe722e17            5.0   \n",
       "5  7d56b43a-d137-446d-8570-8d7d5ccbaee9            5.0   \n",
       "6  38a8b0ea-ff54-42cf-ab5b-742700ffcd0a            5.0   \n",
       "7  38a8b0ea-ff54-42cf-ab5b-742700ffcd0a            5.0   \n",
       "8  b1a122d7-b1c3-43c9-86e1-ec5e40456a3b            5.0   \n",
       "9  b1a122d7-b1c3-43c9-86e1-ec5e40456a3b            5.0   \n",
       "\n",
       "                                      id  event_id   subject  \\\n",
       "0  00fc6685-f53a-49bb-b960-5e0042fd3852    51341.0  phys       \n",
       "1  00fc6685-f53a-49bb-b960-5e0042fd3852    51341.0  phys       \n",
       "2  4cadf623-82e6-422f-a342-acf978302fb2    55048.0  phys       \n",
       "3  e597a79a-3f68-4d15-bc77-c7000bcf8e52    53026.0  phys       \n",
       "4  ea6f0bf3-bcfc-4555-9b16-cc2cfe722e17    51645.0  phys       \n",
       "5  7d56b43a-d137-446d-8570-8d7d5ccbaee9    51153.0  phys       \n",
       "6  38a8b0ea-ff54-42cf-ab5b-742700ffcd0a    53356.0  phys       \n",
       "7  38a8b0ea-ff54-42cf-ab5b-742700ffcd0a    53356.0  phys       \n",
       "8  b1a122d7-b1c3-43c9-86e1-ec5e40456a3b    42871.0  phys       \n",
       "9  b1a122d7-b1c3-43c9-86e1-ec5e40456a3b    42871.0  phys       \n",
       "\n",
       "        scheduled_time  \n",
       "0  2020-01-17 12:00:00  \n",
       "1  2020-01-17 12:00:00  \n",
       "2  2020-01-19 14:00:00  \n",
       "3  2020-01-19 15:00:00  \n",
       "4  2020-01-19 14:00:00  \n",
       "5  2020-01-20 17:00:00  \n",
       "6  2020-01-20 10:00:00  \n",
       "7  2020-01-20 10:00:00  \n",
       "8  2020-01-20 10:00:00  \n",
       "9  2020-01-20 10:00:00  "
      ]
     },
     "execution_count": 25,
     "metadata": {},
     "output_type": "execute_result"
    }
   ],
   "source": [
    "new_table.head(10)"
   ]
  },
  {
   "cell_type": "code",
   "execution_count": 26,
   "metadata": {},
   "outputs": [
    {
     "data": {
      "text/plain": [
       "lesson_id          object\n",
       "tech_quality      float64\n",
       "id                 object\n",
       "event_id          float64\n",
       "subject            object\n",
       "scheduled_time     object\n",
       "dtype: object"
      ]
     },
     "execution_count": 26,
     "metadata": {},
     "output_type": "execute_result"
    }
   ],
   "source": [
    "new_table.dtypes"
   ]
  },
  {
   "cell_type": "code",
   "execution_count": 27,
   "metadata": {},
   "outputs": [
    {
     "data": {
      "text/plain": [
       "event_id    object\n",
       "user_id     object\n",
       "dtype: object"
      ]
     },
     "execution_count": 27,
     "metadata": {},
     "output_type": "execute_result"
    }
   ],
   "source": [
    "participants.dtypes"
   ]
  },
  {
   "cell_type": "code",
   "execution_count": 28,
   "metadata": {},
   "outputs": [],
   "source": [
    "participants['event_id'] = pd.to_numeric(participants['event_id'])"
   ]
  },
  {
   "cell_type": "code",
   "execution_count": 29,
   "metadata": {},
   "outputs": [
    {
     "data": {
      "text/plain": [
       "event_id     int64\n",
       "user_id     object\n",
       "dtype: object"
      ]
     },
     "execution_count": 29,
     "metadata": {},
     "output_type": "execute_result"
    }
   ],
   "source": [
    "participants.dtypes"
   ]
  },
  {
   "cell_type": "code",
   "execution_count": 30,
   "metadata": {},
   "outputs": [],
   "source": [
    "new_table2 = pd.merge(new_table, participants, left_on = ['event_id'], right_on = ['event_id'])"
   ]
  },
  {
   "cell_type": "code",
   "execution_count": 31,
   "metadata": {},
   "outputs": [
    {
     "data": {
      "text/html": [
       "<div>\n",
       "<style scoped>\n",
       "    .dataframe tbody tr th:only-of-type {\n",
       "        vertical-align: middle;\n",
       "    }\n",
       "\n",
       "    .dataframe tbody tr th {\n",
       "        vertical-align: top;\n",
       "    }\n",
       "\n",
       "    .dataframe thead th {\n",
       "        text-align: right;\n",
       "    }\n",
       "</style>\n",
       "<table border=\"1\" class=\"dataframe\">\n",
       "  <thead>\n",
       "    <tr style=\"text-align: right;\">\n",
       "      <th></th>\n",
       "      <th>lesson_id</th>\n",
       "      <th>tech_quality</th>\n",
       "      <th>id</th>\n",
       "      <th>event_id</th>\n",
       "      <th>subject</th>\n",
       "      <th>scheduled_time</th>\n",
       "      <th>user_id</th>\n",
       "    </tr>\n",
       "  </thead>\n",
       "  <tbody>\n",
       "    <tr>\n",
       "      <th>0</th>\n",
       "      <td>00fc6685-f53a-49bb-b960-5e0042fd3852</td>\n",
       "      <td>5.0</td>\n",
       "      <td>00fc6685-f53a-49bb-b960-5e0042fd3852</td>\n",
       "      <td>51341.0</td>\n",
       "      <td>phys</td>\n",
       "      <td>2020-01-17 12:00:00</td>\n",
       "      <td>4ab072ed-8a41-4ed6-9877-8f1d1fbb24d2</td>\n",
       "    </tr>\n",
       "    <tr>\n",
       "      <th>1</th>\n",
       "      <td>00fc6685-f53a-49bb-b960-5e0042fd3852</td>\n",
       "      <td>5.0</td>\n",
       "      <td>00fc6685-f53a-49bb-b960-5e0042fd3852</td>\n",
       "      <td>51341.0</td>\n",
       "      <td>phys</td>\n",
       "      <td>2020-01-17 12:00:00</td>\n",
       "      <td>30a19496-bdaf-461c-abbc-2709ae520201</td>\n",
       "    </tr>\n",
       "    <tr>\n",
       "      <th>2</th>\n",
       "      <td>00fc6685-f53a-49bb-b960-5e0042fd3852</td>\n",
       "      <td>5.0</td>\n",
       "      <td>00fc6685-f53a-49bb-b960-5e0042fd3852</td>\n",
       "      <td>51341.0</td>\n",
       "      <td>phys</td>\n",
       "      <td>2020-01-17 12:00:00</td>\n",
       "      <td>4ab072ed-8a41-4ed6-9877-8f1d1fbb24d2</td>\n",
       "    </tr>\n",
       "    <tr>\n",
       "      <th>3</th>\n",
       "      <td>00fc6685-f53a-49bb-b960-5e0042fd3852</td>\n",
       "      <td>5.0</td>\n",
       "      <td>00fc6685-f53a-49bb-b960-5e0042fd3852</td>\n",
       "      <td>51341.0</td>\n",
       "      <td>phys</td>\n",
       "      <td>2020-01-17 12:00:00</td>\n",
       "      <td>30a19496-bdaf-461c-abbc-2709ae520201</td>\n",
       "    </tr>\n",
       "    <tr>\n",
       "      <th>4</th>\n",
       "      <td>4cadf623-82e6-422f-a342-acf978302fb2</td>\n",
       "      <td>5.0</td>\n",
       "      <td>4cadf623-82e6-422f-a342-acf978302fb2</td>\n",
       "      <td>55048.0</td>\n",
       "      <td>phys</td>\n",
       "      <td>2020-01-19 14:00:00</td>\n",
       "      <td>43efce48-94b2-4412-857f-223d45969008</td>\n",
       "    </tr>\n",
       "    <tr>\n",
       "      <th>5</th>\n",
       "      <td>4cadf623-82e6-422f-a342-acf978302fb2</td>\n",
       "      <td>5.0</td>\n",
       "      <td>4cadf623-82e6-422f-a342-acf978302fb2</td>\n",
       "      <td>55048.0</td>\n",
       "      <td>phys</td>\n",
       "      <td>2020-01-19 14:00:00</td>\n",
       "      <td>6daa4b70-1e22-46c8-bcb4-22d452e4add1</td>\n",
       "    </tr>\n",
       "    <tr>\n",
       "      <th>6</th>\n",
       "      <td>e597a79a-3f68-4d15-bc77-c7000bcf8e52</td>\n",
       "      <td>5.0</td>\n",
       "      <td>e597a79a-3f68-4d15-bc77-c7000bcf8e52</td>\n",
       "      <td>53026.0</td>\n",
       "      <td>phys</td>\n",
       "      <td>2020-01-19 15:00:00</td>\n",
       "      <td>43efce48-94b2-4412-857f-223d45969008</td>\n",
       "    </tr>\n",
       "    <tr>\n",
       "      <th>7</th>\n",
       "      <td>e597a79a-3f68-4d15-bc77-c7000bcf8e52</td>\n",
       "      <td>5.0</td>\n",
       "      <td>e597a79a-3f68-4d15-bc77-c7000bcf8e52</td>\n",
       "      <td>53026.0</td>\n",
       "      <td>phys</td>\n",
       "      <td>2020-01-19 15:00:00</td>\n",
       "      <td>e4e0a62e-5f9f-4d44-aa3f-e6827a926d9f</td>\n",
       "    </tr>\n",
       "    <tr>\n",
       "      <th>8</th>\n",
       "      <td>ea6f0bf3-bcfc-4555-9b16-cc2cfe722e17</td>\n",
       "      <td>5.0</td>\n",
       "      <td>ea6f0bf3-bcfc-4555-9b16-cc2cfe722e17</td>\n",
       "      <td>51645.0</td>\n",
       "      <td>phys</td>\n",
       "      <td>2020-01-19 14:00:00</td>\n",
       "      <td>8fe03f08-8581-430c-a590-9888ab36deb3</td>\n",
       "    </tr>\n",
       "    <tr>\n",
       "      <th>9</th>\n",
       "      <td>ea6f0bf3-bcfc-4555-9b16-cc2cfe722e17</td>\n",
       "      <td>5.0</td>\n",
       "      <td>ea6f0bf3-bcfc-4555-9b16-cc2cfe722e17</td>\n",
       "      <td>51645.0</td>\n",
       "      <td>phys</td>\n",
       "      <td>2020-01-19 14:00:00</td>\n",
       "      <td>3c5d30e3-8831-490e-a2a4-63e6ff1c33bb</td>\n",
       "    </tr>\n",
       "  </tbody>\n",
       "</table>\n",
       "</div>"
      ],
      "text/plain": [
       "                               lesson_id  tech_quality  \\\n",
       "0  00fc6685-f53a-49bb-b960-5e0042fd3852            5.0   \n",
       "1  00fc6685-f53a-49bb-b960-5e0042fd3852            5.0   \n",
       "2  00fc6685-f53a-49bb-b960-5e0042fd3852            5.0   \n",
       "3  00fc6685-f53a-49bb-b960-5e0042fd3852            5.0   \n",
       "4  4cadf623-82e6-422f-a342-acf978302fb2            5.0   \n",
       "5  4cadf623-82e6-422f-a342-acf978302fb2            5.0   \n",
       "6  e597a79a-3f68-4d15-bc77-c7000bcf8e52            5.0   \n",
       "7  e597a79a-3f68-4d15-bc77-c7000bcf8e52            5.0   \n",
       "8  ea6f0bf3-bcfc-4555-9b16-cc2cfe722e17            5.0   \n",
       "9  ea6f0bf3-bcfc-4555-9b16-cc2cfe722e17            5.0   \n",
       "\n",
       "                                      id  event_id   subject  \\\n",
       "0  00fc6685-f53a-49bb-b960-5e0042fd3852    51341.0  phys       \n",
       "1  00fc6685-f53a-49bb-b960-5e0042fd3852    51341.0  phys       \n",
       "2  00fc6685-f53a-49bb-b960-5e0042fd3852    51341.0  phys       \n",
       "3  00fc6685-f53a-49bb-b960-5e0042fd3852    51341.0  phys       \n",
       "4  4cadf623-82e6-422f-a342-acf978302fb2    55048.0  phys       \n",
       "5  4cadf623-82e6-422f-a342-acf978302fb2    55048.0  phys       \n",
       "6  e597a79a-3f68-4d15-bc77-c7000bcf8e52    53026.0  phys       \n",
       "7  e597a79a-3f68-4d15-bc77-c7000bcf8e52    53026.0  phys       \n",
       "8  ea6f0bf3-bcfc-4555-9b16-cc2cfe722e17    51645.0  phys       \n",
       "9  ea6f0bf3-bcfc-4555-9b16-cc2cfe722e17    51645.0  phys       \n",
       "\n",
       "        scheduled_time                               user_id  \n",
       "0  2020-01-17 12:00:00  4ab072ed-8a41-4ed6-9877-8f1d1fbb24d2  \n",
       "1  2020-01-17 12:00:00  30a19496-bdaf-461c-abbc-2709ae520201  \n",
       "2  2020-01-17 12:00:00  4ab072ed-8a41-4ed6-9877-8f1d1fbb24d2  \n",
       "3  2020-01-17 12:00:00  30a19496-bdaf-461c-abbc-2709ae520201  \n",
       "4  2020-01-19 14:00:00  43efce48-94b2-4412-857f-223d45969008  \n",
       "5  2020-01-19 14:00:00  6daa4b70-1e22-46c8-bcb4-22d452e4add1  \n",
       "6  2020-01-19 15:00:00  43efce48-94b2-4412-857f-223d45969008  \n",
       "7  2020-01-19 15:00:00  e4e0a62e-5f9f-4d44-aa3f-e6827a926d9f  \n",
       "8  2020-01-19 14:00:00  8fe03f08-8581-430c-a590-9888ab36deb3  \n",
       "9  2020-01-19 14:00:00  3c5d30e3-8831-490e-a2a4-63e6ff1c33bb  "
      ]
     },
     "execution_count": 31,
     "metadata": {},
     "output_type": "execute_result"
    }
   ],
   "source": [
    "new_table2.head(10)"
   ]
  },
  {
   "cell_type": "code",
   "execution_count": 32,
   "metadata": {},
   "outputs": [],
   "source": [
    "tutors = users[(users['role'] == 'tutor')]"
   ]
  },
  {
   "cell_type": "code",
   "execution_count": 33,
   "metadata": {},
   "outputs": [
    {
     "data": {
      "text/html": [
       "<div>\n",
       "<style scoped>\n",
       "    .dataframe tbody tr th:only-of-type {\n",
       "        vertical-align: middle;\n",
       "    }\n",
       "\n",
       "    .dataframe tbody tr th {\n",
       "        vertical-align: top;\n",
       "    }\n",
       "\n",
       "    .dataframe thead th {\n",
       "        text-align: right;\n",
       "    }\n",
       "</style>\n",
       "<table border=\"1\" class=\"dataframe\">\n",
       "  <thead>\n",
       "    <tr style=\"text-align: right;\">\n",
       "      <th></th>\n",
       "      <th>human_id</th>\n",
       "      <th>role</th>\n",
       "    </tr>\n",
       "  </thead>\n",
       "  <tbody>\n",
       "    <tr>\n",
       "      <th>2</th>\n",
       "      <td>4df2832a-1d63-4453-9659-43993fc35996</td>\n",
       "      <td>tutor</td>\n",
       "    </tr>\n",
       "    <tr>\n",
       "      <th>4</th>\n",
       "      <td>63441abe-c4da-4275-ba26-66f7dbd65dde</td>\n",
       "      <td>tutor</td>\n",
       "    </tr>\n",
       "    <tr>\n",
       "      <th>5</th>\n",
       "      <td>a1323b68-c82c-429a-8e2c-65597e648c1a</td>\n",
       "      <td>tutor</td>\n",
       "    </tr>\n",
       "    <tr>\n",
       "      <th>8</th>\n",
       "      <td>30a19496-bdaf-461c-abbc-2709ae520201</td>\n",
       "      <td>tutor</td>\n",
       "    </tr>\n",
       "    <tr>\n",
       "      <th>9</th>\n",
       "      <td>43efce48-94b2-4412-857f-223d45969008</td>\n",
       "      <td>tutor</td>\n",
       "    </tr>\n",
       "  </tbody>\n",
       "</table>\n",
       "</div>"
      ],
      "text/plain": [
       "                                human_id   role\n",
       "2  4df2832a-1d63-4453-9659-43993fc35996   tutor\n",
       "4  63441abe-c4da-4275-ba26-66f7dbd65dde   tutor\n",
       "5  a1323b68-c82c-429a-8e2c-65597e648c1a   tutor\n",
       "8  30a19496-bdaf-461c-abbc-2709ae520201   tutor\n",
       "9  43efce48-94b2-4412-857f-223d45969008   tutor"
      ]
     },
     "execution_count": 33,
     "metadata": {},
     "output_type": "execute_result"
    }
   ],
   "source": [
    "tutors.head()"
   ]
  },
  {
   "cell_type": "code",
   "execution_count": 34,
   "metadata": {},
   "outputs": [],
   "source": [
    "almost_res = new_table2.groupby(['event_id'])[['tech_quality']].mean().sort_values('tech_quality')"
   ]
  },
  {
   "cell_type": "code",
   "execution_count": 35,
   "metadata": {},
   "outputs": [
    {
     "data": {
      "text/html": [
       "<div>\n",
       "<style scoped>\n",
       "    .dataframe tbody tr th:only-of-type {\n",
       "        vertical-align: middle;\n",
       "    }\n",
       "\n",
       "    .dataframe tbody tr th {\n",
       "        vertical-align: top;\n",
       "    }\n",
       "\n",
       "    .dataframe thead th {\n",
       "        text-align: right;\n",
       "    }\n",
       "</style>\n",
       "<table border=\"1\" class=\"dataframe\">\n",
       "  <thead>\n",
       "    <tr style=\"text-align: right;\">\n",
       "      <th></th>\n",
       "      <th>tech_quality</th>\n",
       "    </tr>\n",
       "    <tr>\n",
       "      <th>event_id</th>\n",
       "      <th></th>\n",
       "    </tr>\n",
       "  </thead>\n",
       "  <tbody>\n",
       "    <tr>\n",
       "      <th>52949.0</th>\n",
       "      <td>2.0</td>\n",
       "    </tr>\n",
       "    <tr>\n",
       "      <th>53159.0</th>\n",
       "      <td>4.0</td>\n",
       "    </tr>\n",
       "    <tr>\n",
       "      <th>38199.0</th>\n",
       "      <td>4.0</td>\n",
       "    </tr>\n",
       "    <tr>\n",
       "      <th>53917.0</th>\n",
       "      <td>4.0</td>\n",
       "    </tr>\n",
       "    <tr>\n",
       "      <th>41625.0</th>\n",
       "      <td>4.0</td>\n",
       "    </tr>\n",
       "  </tbody>\n",
       "</table>\n",
       "</div>"
      ],
      "text/plain": [
       "          tech_quality\n",
       "event_id              \n",
       "52949.0            2.0\n",
       "53159.0            4.0\n",
       "38199.0            4.0\n",
       "53917.0            4.0\n",
       "41625.0            4.0"
      ]
     },
     "execution_count": 35,
     "metadata": {},
     "output_type": "execute_result"
    }
   ],
   "source": [
    "almost_res.head()"
   ]
  },
  {
   "cell_type": "code",
   "execution_count": 36,
   "metadata": {},
   "outputs": [
    {
     "data": {
      "text/plain": [
       "[2.0]"
      ]
     },
     "execution_count": 36,
     "metadata": {},
     "output_type": "execute_result"
    }
   ],
   "source": [
    "answer = [almost_res['tech_quality'].iloc[0]]\n",
    "answer"
   ]
  },
  {
   "cell_type": "code",
   "execution_count": 37,
   "metadata": {},
   "outputs": [],
   "source": [
    "index = almost_res.index[almost_res['tech_quality'] <= 5].tolist()"
   ]
  },
  {
   "cell_type": "code",
   "execution_count": 38,
   "metadata": {},
   "outputs": [
    {
     "data": {
      "text/plain": [
       "[52949.0, 53159.0, 38199.0, 53917.0, 41625.0]"
      ]
     },
     "execution_count": 38,
     "metadata": {},
     "output_type": "execute_result"
    }
   ],
   "source": [
    "index[:5]"
   ]
  },
  {
   "cell_type": "code",
   "execution_count": 39,
   "metadata": {},
   "outputs": [
    {
     "data": {
      "text/html": [
       "<div>\n",
       "<style scoped>\n",
       "    .dataframe tbody tr th:only-of-type {\n",
       "        vertical-align: middle;\n",
       "    }\n",
       "\n",
       "    .dataframe tbody tr th {\n",
       "        vertical-align: top;\n",
       "    }\n",
       "\n",
       "    .dataframe thead th {\n",
       "        text-align: right;\n",
       "    }\n",
       "</style>\n",
       "<table border=\"1\" class=\"dataframe\">\n",
       "  <thead>\n",
       "    <tr style=\"text-align: right;\">\n",
       "      <th></th>\n",
       "      <th>event_id</th>\n",
       "      <th>user_id</th>\n",
       "    </tr>\n",
       "  </thead>\n",
       "  <tbody>\n",
       "    <tr>\n",
       "      <th>539</th>\n",
       "      <td>52949</td>\n",
       "      <td>9d9029a2-c81a-49f7-84ee-7696eecd2f99</td>\n",
       "    </tr>\n",
       "    <tr>\n",
       "      <th>540</th>\n",
       "      <td>52949</td>\n",
       "      <td>43efce48-94b2-4412-857f-223d45969008</td>\n",
       "    </tr>\n",
       "  </tbody>\n",
       "</table>\n",
       "</div>"
      ],
      "text/plain": [
       "     event_id                               user_id\n",
       "539     52949  9d9029a2-c81a-49f7-84ee-7696eecd2f99\n",
       "540     52949  43efce48-94b2-4412-857f-223d45969008"
      ]
     },
     "execution_count": 39,
     "metadata": {},
     "output_type": "execute_result"
    }
   ],
   "source": [
    "part = participants[participants['event_id'] == index[0]]\n",
    "part"
   ]
  },
  {
   "cell_type": "code",
   "execution_count": 40,
   "metadata": {},
   "outputs": [
    {
     "data": {
      "text/plain": [
       "['9d9029a2-c81a-49f7-84ee-7696eecd2f99',\n",
       " '43efce48-94b2-4412-857f-223d45969008']"
      ]
     },
     "execution_count": 40,
     "metadata": {},
     "output_type": "execute_result"
    }
   ],
   "source": [
    "index_part = part['user_id'].tolist()\n",
    "index_part"
   ]
  },
  {
   "cell_type": "code",
   "execution_count": 41,
   "metadata": {},
   "outputs": [],
   "source": [
    "new_tutors = tutors['human_id'].tolist()"
   ]
  },
  {
   "cell_type": "code",
   "execution_count": 42,
   "metadata": {},
   "outputs": [
    {
     "data": {
      "text/plain": [
       "['4df2832a-1d63-4453-9659-43993fc35996 ',\n",
       " '63441abe-c4da-4275-ba26-66f7dbd65dde ',\n",
       " 'a1323b68-c82c-429a-8e2c-65597e648c1a ',\n",
       " '30a19496-bdaf-461c-abbc-2709ae520201 ']"
      ]
     },
     "execution_count": 42,
     "metadata": {},
     "output_type": "execute_result"
    }
   ],
   "source": [
    "new_tutors[:4]"
   ]
  },
  {
   "cell_type": "code",
   "execution_count": 43,
   "metadata": {},
   "outputs": [],
   "source": [
    "for i in range(len(new_tutors)):\n",
    "    b = new_tutors[i].split()\n",
    "    b = ''.join(b)\n",
    "    new_tutors[i] = b"
   ]
  },
  {
   "cell_type": "code",
   "execution_count": 44,
   "metadata": {},
   "outputs": [
    {
     "data": {
      "text/plain": [
       "['4df2832a-1d63-4453-9659-43993fc35996',\n",
       " '63441abe-c4da-4275-ba26-66f7dbd65dde',\n",
       " 'a1323b68-c82c-429a-8e2c-65597e648c1a',\n",
       " '30a19496-bdaf-461c-abbc-2709ae520201']"
      ]
     },
     "execution_count": 44,
     "metadata": {},
     "output_type": "execute_result"
    }
   ],
   "source": [
    "new_tutors[:4]"
   ]
  },
  {
   "cell_type": "code",
   "execution_count": 45,
   "metadata": {},
   "outputs": [],
   "source": [
    "for item2 in index_part:\n",
    "    for item1 in new_tutors:\n",
    "        if item1 == item2:\n",
    "            answer.append(item1)\n",
    "            break"
   ]
  },
  {
   "cell_type": "code",
   "execution_count": 46,
   "metadata": {},
   "outputs": [
    {
     "name": "stdout",
     "output_type": "stream",
     "text": [
      "Репетитор id = 43efce48-94b2-4412-857f-223d45969008 Оценка =  2.0\n"
     ]
    }
   ],
   "source": [
    "print('Репетитор id =', answer[1], 'Оценка = ', answer[0])"
   ]
  }
 ],
 "metadata": {
  "kernelspec": {
   "display_name": "Python 3",
   "language": "python",
   "name": "python3"
  },
  "language_info": {
   "codemirror_mode": {
    "name": "ipython",
    "version": 3
   },
   "file_extension": ".py",
   "mimetype": "text/x-python",
   "name": "python",
   "nbconvert_exporter": "python",
   "pygments_lexer": "ipython3",
   "version": "3.7.1"
  }
 },
 "nbformat": 4,
 "nbformat_minor": 4
}
